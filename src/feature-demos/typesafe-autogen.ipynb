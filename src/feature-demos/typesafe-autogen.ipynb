{
 "cells": [
  {
   "cell_type": "markdown",
   "metadata": {},
   "source": [
    "### Generate a Type-Safe API with Autogen"
   ]
  },
  {
   "cell_type": "code",
   "execution_count": 1,
   "metadata": {},
   "outputs": [],
   "source": [
    "import dotenv\n",
    "\n",
    "from autogen_core.models import UserMessage\n",
    "from autogen_ext.models.openai import AzureOpenAIChatCompletionClient\n",
    "from azure.identity import DefaultAzureCredential, get_bearer_token_provider\n",
    "\n",
    "dotenv.load_dotenv()\n",
    "\n",
    "token_provider = get_bearer_token_provider(DefaultAzureCredential(), \"https://cognitiveservices.azure.com/.default\")\n",
    "\n",
    "client = AzureOpenAIChatCompletionClient(\n",
    "    azure_deployment=\"gpt-4o-mini\",\n",
    "    model=\"gpt-4o-mini\",\n",
    "    api_version=dotenv.get_key(dotenv.find_dotenv(), \"AZURE_AUTH_API_VERSION\"),\n",
    "    azure_endpoint=dotenv.get_key(dotenv.find_dotenv(), \"AZURE_AUTH_API_BASE\"),\n",
    "    api_key=dotenv.get_key(dotenv.find_dotenv(), \"AZURE_AUTH_API_KEY\")\n",
    ")"
   ]
  },
  {
   "cell_type": "code",
   "execution_count": 2,
   "metadata": {},
   "outputs": [],
   "source": [
    "from pydantic import BaseModel\n",
    "\n",
    "class ColorsAndAnimals(BaseModel):\n",
    "    class Color(BaseModel):\n",
    "        name: str\n",
    "        rgb: list[int]\n",
    "\n",
    "    class Animal(BaseModel):\n",
    "        name: str\n",
    "        reason: str\n",
    "\n",
    "    colors: list[Color]\n",
    "    animals: list[Animal]"
   ]
  },
  {
   "cell_type": "code",
   "execution_count": 3,
   "metadata": {},
   "outputs": [],
   "source": [
    "import matplotlib.pyplot as plt\n",
    "\n",
    "messages = [\n",
    "    UserMessage(content=\"List me your favorite colors and animals, choose interesting colors.\", source=\"user\"),\n",
    "]\n",
    "\n",
    "response = await client.create(messages=messages, extra_create_args={\"response_format\": ColorsAndAnimals})"
   ]
  },
  {
   "cell_type": "code",
   "execution_count": 4,
   "metadata": {},
   "outputs": [
    {
     "name": "stdout",
     "output_type": "stream",
     "text": [
      "Color 1: Cerulean Blue ([0, 123, 167])\n"
     ]
    },
    {
     "data": {
      "image/png": "[encoded data removed]",
      "text/plain": [
       "<Figure size 50x50 with 1 Axes>"
      ]
     },
     "metadata": {},
     "output_type": "display_data"
    },
    {
     "name": "stdout",
     "output_type": "stream",
     "text": [
      "Color 2: Chartreuse ([127, 255, 0])\n"
     ]
    },
    {
     "data": {
      "image/png": "[encoded data removed]",
      "text/plain": [
       "<Figure size 50x50 with 1 Axes>"
      ]
     },
     "metadata": {},
     "output_type": "display_data"
    },
    {
     "name": "stdout",
     "output_type": "stream",
     "text": [
      "Color 3: Mauve ([224, 176, 255])\n"
     ]
    },
    {
     "data": {
      "image/png": "[encoded data removed]",
      "text/plain": [
       "<Figure size 50x50 with 1 Axes>"
      ]
     },
     "metadata": {},
     "output_type": "display_data"
    },
    {
     "name": "stdout",
     "output_type": "stream",
     "text": [
      "Color 4: Coral ([255, 127, 80])\n"
     ]
    },
    {
     "data": {
      "image/png": "[encoded data removed]",
      "text/plain": [
       "<Figure size 50x50 with 1 Axes>"
      ]
     },
     "metadata": {},
     "output_type": "display_data"
    },
    {
     "name": "stdout",
     "output_type": "stream",
     "text": [
      "Color 5: Gamboge ([228, 155, 15])\n"
     ]
    },
    {
     "data": {
      "image/png": "[encoded data removed]",
      "text/plain": [
       "<Figure size 50x50 with 1 Axes>"
      ]
     },
     "metadata": {},
     "output_type": "display_data"
    },
    {
     "name": "stdout",
     "output_type": "stream",
     "text": [
      "Animal 1: Axolotl (They are unique aquatic creatures known for their regenerative abilities.)\n",
      "Animal 2: Quokka (Often referred to as the 'world's happiest animal' due to their friendly expression.)\n",
      "Animal 3: Narwhal (Known as the 'unicorn of the sea' because of the long, spiral tusk.)\n",
      "Animal 4: Pangolin (They are the only mammals with scales, and they are fascinating and elusive.)\n",
      "Animal 5: Okapi (They have a striking appearance that resembles a mix between a giraffe and a zebra.)\n"
     ]
    }
   ],
   "source": [
    "response_content = ColorsAndAnimals.model_validate_json(response.content)\n",
    "\n",
    "for i, color in enumerate(response_content.colors):\n",
    "    print(f'Color {i+1}: {color.name} ({color.rgb})')\n",
    "    plt.imshow([[color.rgb]])\n",
    "    plt.axis('off')\n",
    "    plt.gca().set_position([0, 0, 1, 1])\n",
    "    plt.gcf().set_size_inches(0.5, 0.5)\n",
    "    plt.subplots_adjust(left=0, right=1, top=1, bottom=0)\n",
    "    plt.show()\n",
    "\n",
    "for i, animal in enumerate(response_content.animals):\n",
    "    print(f'Animal {i+1}: {animal.name} ({animal.reason})')"
   ]
  }
 ],
 "metadata": {
  "kernelspec": {
   "display_name": ".venv",
   "language": "python",
   "name": "python3"
  },
  "language_info": {
   "codemirror_mode": {
    "name": "ipython",
    "version": 3
   },
   "file_extension": ".py",
   "mimetype": "text/x-python",
   "name": "python",
   "nbconvert_exporter": "python",
   "pygments_lexer": "ipython3",
   "version": "3.12.9"
  }
 },
 "nbformat": 4,
 "nbformat_minor": 2
}
